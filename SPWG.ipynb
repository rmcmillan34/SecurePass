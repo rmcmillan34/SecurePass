{
 "cells": [
  {
   "cell_type": "markdown",
   "metadata": {},
   "source": [
    "# Secure Password Generator\n",
    "by Ryan McMillan 2020"
   ]
  },
  {
   "cell_type": "code",
   "execution_count": 50,
   "metadata": {},
   "outputs": [],
   "source": [
    "import string\n",
    "import os\n",
    "import random\n",
    "import clipboard"
   ]
  },
  {
   "cell_type": "code",
   "execution_count": 51,
   "metadata": {
    "scrolled": true
   },
   "outputs": [],
   "source": [
    "SYMBOLS = '!\"#$%&()*+,-./:;<=>?@[\\]^_`{|}~\\''"
   ]
  },
  {
   "cell_type": "code",
   "execution_count": 52,
   "metadata": {},
   "outputs": [],
   "source": [
    "def generate_password(num_chars=15, symbols=True):\n",
    "    password = ''\n",
    "    \n",
    "    if symbols == False:\n",
    "        scope = string.ascii_letters + string.digits\n",
    "    else:\n",
    "        scope = string.ascii_letters + string.digits + SYMBOLS\n",
    "    for i in range(num_chars):\n",
    "        password = password + pwd_chars[random.randint(0, len(scope))]\n",
    "    \n",
    "    return password"
   ]
  },
  {
   "cell_type": "code",
   "execution_count": 61,
   "metadata": {},
   "outputs": [
    {
     "name": "stdout",
     "output_type": "stream",
     "text": [
      "ecc7DhqsgjXvFS4\n",
      "Copying to clipboard..\n",
      "Copied successfully!\n",
      "ecc7DhqsgjXvFS4\n"
     ]
    }
   ],
   "source": [
    "new_password = generate_password()\n",
    "print(new_password)\n",
    "print('Copying to clipboard..')\n",
    "try:\n",
    "    clipboard.copy(str(new_password))\n",
    "except Exception as e:\n",
    "    print(e)\n",
    "print('Copied successfully!')\n",
    "print(clipboard.paste())"
   ]
  },
  {
   "cell_type": "code",
   "execution_count": 62,
   "metadata": {},
   "outputs": [],
   "source": [
    "clipboard.copy(new_password)"
   ]
  },
  {
   "cell_type": "code",
   "execution_count": null,
   "metadata": {},
   "outputs": [],
   "source": []
  }
 ],
 "metadata": {
  "kernelspec": {
   "display_name": "Python 3.7.4 64-bit ('anaconda3': virtualenv)",
   "language": "python",
   "name": "python37464bitanaconda3virtualenvb93dad60a01e4f40a1e2c3b02ccc9e5b"
  },
  "language_info": {
   "codemirror_mode": {
    "name": "ipython",
    "version": 3
   },
   "file_extension": ".py",
   "mimetype": "text/x-python",
   "name": "python",
   "nbconvert_exporter": "python",
   "pygments_lexer": "ipython3",
   "version": "3.7.4"
  }
 },
 "nbformat": 4,
 "nbformat_minor": 2
}
